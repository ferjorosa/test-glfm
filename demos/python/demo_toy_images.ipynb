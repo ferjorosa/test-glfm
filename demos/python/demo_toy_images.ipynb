{
 "cells": [
  {
   "cell_type": "markdown",
   "metadata": {},
   "source": [
    "# DEMO_TOY_IMAGES"
   ]
  },
  {
   "cell_type": "markdown",
   "metadata": {},
   "source": [
    "Simple illustration of GLFM pipeline, replicating the example of the IBP linear-Gaussian model in (Griffiths and Ghahramani, 2011)."
   ]
  },
  {
   "cell_type": "code",
   "execution_count": 1,
   "metadata": {
    "collapsed": false
   },
   "outputs": [],
   "source": [
    "# ---------------------------------------------\n",
    "# Import necessary libraries\n",
    "# ---------------------------------------------\n",
    "import numpy as np # import numpy matrix for calculus with matrices\n",
    "import matplotlib.pyplot as plt # import plotting library\n",
    "import time        # import time to be able to measure iteration speed\n",
    "import sys\n",
    "sys.path.append('../../src/GLFMpython/')\n",
    "import GLFM\n",
    "\n",
    "import pdb"
   ]
  },
  {
   "cell_type": "code",
   "execution_count": 2,
   "metadata": {
    "collapsed": false
   },
   "outputs": [
    {
     "name": "stdout",
     "output_type": "stream",
     "text": [
      "\n",
      " 1. GENERATIVE MODEL\n",
      "\n",
      "\tGenerating feature images (components)...\n",
      "\tPlotting feature images (Btrue)...\n"
     ]
    },
    {
     "data": {
      "image/png": "[encoded data removed]",
      "text/plain": [
       "<matplotlib.figure.Figure at 0x10c2d1410>"
      ]
     },
     "metadata": {},
     "output_type": "display_data"
    },
    {
     "name": "stdout",
     "output_type": "stream",
     "text": [
      "\tSetting model parameters (ground truth) and generate database...\n",
      "\tGenerating data with N=1000 and noise variance s2x=0.50\n"
     ]
    }
   ],
   "source": [
    "# ---------------------------------------------\n",
    "# 1. GENERATIVE MODEL\n",
    "# ---------------------------------------------\n",
    "print '\\n 1. GENERATIVE MODEL\\n'\n",
    "\n",
    "print '\\tGenerating feature images (components)...'\n",
    "# Btrue contains the features images or components in order to generate the\n",
    "# whole set of images\n",
    "Btrue = 2*np.array([[0,1.0,0,0,0,0,  1,1,1,0,0,0, 0,1,0,0,0,0,         0,0,0,0,0,0, 0,0,0,0,0,0, 0,0,0,0,0,0],         [0,0.0,0,1,1,1,  0,0,0,1,0,1, 0,0,0,1,1,1,         0,0,0,0,0,0, 0,0,0,0,0,0, 0,0,0,0,0,0],         [0,0,0,0,0,0, 0,0,0,0,0,0, 0,0,0,0,0,0,         1,0,0,0,0,0, 1,1,0,0,0,0, 1,1,1,0,0,0],         [0,0,0,0,0,0, 0,0,0,0,0,0, 0,0,0,0,0,0,         0,0,0,1,1,1, 0,0,0,0,1,0, 0,0,0,0,1,0]])\n",
    "D = Btrue.shape[1] # number of dimensions\n",
    "K = Btrue.shape[0] # number of binary images\n",
    "\n",
    "print '\\tPlotting feature images (Btrue)...'\n",
    "f, ((ax1, ax2), (ax3, ax4)) = plt.subplots(2, 2, sharex='col', sharey='row')\n",
    "V = [ax1, ax2, ax3, ax4] # subfigures handlers\n",
    "for i in xrange(len(Btrue)):\n",
    "    pixels = Btrue[i].reshape(int(np.sqrt(Btrue.shape[1])),int(np.sqrt(Btrue.shape[1])))\n",
    "    # Plot each feature component k\n",
    "    V[i].imshow(pixels, cmap='gray',interpolation='nearest')\n",
    "    V[i].set_ylim(0,5) # set Y-axis limits\n",
    "    V[i].set_xlim(0,5) # set X-axis limits\n",
    "    V[i].set_title('Image %d' % (i+1)) # set subplot title\n",
    "#plt.ion()  # turn on interactive mode for plotting (so that the script continues)\n",
    "plt.show() # display images component\n",
    "plt.pause(0.0001)\n",
    "\n",
    "print '\\tSetting model parameters (ground truth) and generate database...'\n",
    "N = 1000           # number of images to be generated\n",
    "s2x = 0.5          # noise variance for the observations\n",
    "\n",
    "print '\\tGenerating data with N=%d and noise variance s2x=%.2f' % (N,s2x)\n",
    "# generate matrix Z\n",
    "Ztrue = 1.0*(np.random.rand(N,K) < 0.2)#np.random.randint(0,2,size=(N,K)).astype('float64')\n",
    "# Next line generates the toy database\n",
    "X = np.sqrt(s2x) * np.random.randn(N,D) + np.inner(Ztrue, Btrue.transpose())"
   ]
  },
  {
   "cell_type": "code",
   "execution_count": 3,
   "metadata": {
    "collapsed": false
   },
   "outputs": [
    {
     "name": "stdout",
     "output_type": "stream",
     "text": [
      "\n",
      " 2. INITIALIZATION\n",
      "\n",
      "\tInitializing Z...\n",
      "\tInitialization of variables needed for the GLFM model...\n"
     ]
    }
   ],
   "source": [
    "# ---------------------------------------------\n",
    "# 2. INITIALIZATION FOR GLFM ALGORITHM\n",
    "# ---------------------------------------------\n",
    "\n",
    "print '\\n 2. INITIALIZATION\\n'\n",
    "\n",
    "print '\\tInitializing Z...'\n",
    "hidden = dict()\n",
    "Kinit = 2 # initial number of latent features\n",
    "hidden['Z'] = np.random.randint(0,2,size=(N,Kinit)).astype('float64')\n",
    "\n",
    "print '\\tInitialization of variables needed for the GLFM model...'\n",
    "data = dict()\n",
    "data['X'] = X\n",
    "data['C'] = np.tile('g',(1,X.shape[1]))[0].tostring() # datatype vector\n",
    "\n",
    "# params is optional\n",
    "params = dict()\n",
    "params['alpha'] = 2   # concentration parameter for the IBP\n",
    "params['Niter'] = 100 # number of algorithm iterations\n",
    "params['maxK'] = 10\n",
    "params['verbose'] = 0 #do not show messages\n"
   ]
  },
  {
   "cell_type": "code",
   "execution_count": 4,
   "metadata": {
    "collapsed": false
   },
   "outputs": [
    {
     "name": "stdout",
     "output_type": "stream",
     "text": [
      "\tInfering latent features...\n",
      "\n",
      "In C++: transforming input data...\n",
      "done\n",
      "\n",
      "\n",
      "Entering C++: Running Inference Routine...\n",
      "\n",
      "\n",
      "Back to Python: OK\n",
      "\n",
      "B_out[D,Kest,maxR] where D=36, Kest=4, maxR=1\n"
     ]
    }
   ],
   "source": [
    "# ---------------------------------------------\n",
    "# 3. RUN INFERENCE FOR GLFM ALGORITHM\n",
    "# ---------------------------------------------\n",
    "print '\\tInfering latent features...\\n'\n",
    "hidden = GLFM.infer(data, hidden, params)"
   ]
  },
  {
   "cell_type": "code",
   "execution_count": 5,
   "metadata": {
    "collapsed": false
   },
   "outputs": [
    {
     "name": "stdout",
     "output_type": "stream",
     "text": [
      "\tPrint inferred latent features...\n"
     ]
    },
    {
     "data": {
      "image/png": "[encoded data removed]",
      "text/plain": [
       "<matplotlib.figure.Figure at 0x10bf5dc90>"
      ]
     },
     "metadata": {},
     "output_type": "display_data"
    }
   ],
   "source": [
    "# ---------------------------------------------\n",
    "# 4. PROCESS RESULTS\n",
    "# ---------------------------------------------\n",
    "Kest = hidden['B'].shape[1] # number of inferred latent features\n",
    "D = hidden['B'].shape[0]    # number of dimensions\n",
    "\n",
    "print '\\tPrint inferred latent features...'\n",
    "f, ((ax1, ax2, ax3), (ax4, ax5, ax6), (ax7, ax8, ax9)) = plt.subplots(3, 3, sharex='col', sharey='row')\n",
    "V = [ax1, ax2, ax3, ax4, ax5, ax6, ax7, ax8, ax9]\n",
    "for k in xrange(hidden['B'].shape[1]):\n",
    "    if k>len(V):\n",
    "        break;\n",
    "\n",
    "    # visualize each inferred dimension\n",
    "    Zp = np.zeros(Kest)\n",
    "    Zp[k] = 1.0\n",
    "\n",
    "    #hidden['B'][:,k]\n",
    "    #pixels = hidden['B'][:,k].reshape((int(np.sqrt(D)),int(np.sqrt(D))))\n",
    "    Bpred = GLFM.computeMAP(data['C'],Zp, hidden) # MAP prediction for each dim d\n",
    "    pixels = Bpred.reshape((int(np.sqrt(D)),int(np.sqrt(D))))\n",
    "    # Plot\n",
    "    V[k].imshow(pixels, cmap='gray',interpolation='none')\n",
    "    V[k].set_ylim(0,5)\n",
    "    V[k].set_xlim(0,5)\n",
    "    V[k].set_title('Feature %d' % (k+1))\n",
    "#plt.ion()  # interactive mode for plotting (script continues)\n",
    "plt.show() # display figure\n",
    "plt.pause(0.0001)\n"
   ]
  }
 ],
 "metadata": {
  "anaconda-cloud": {},
  "kernelspec": {
   "display_name": "Python [default]",
   "language": "python",
   "name": "python2"
  },
  "language_info": {
   "codemirror_mode": {
    "name": "ipython",
    "version": 2
   },
   "file_extension": ".py",
   "mimetype": "text/x-python",
   "name": "python",
   "nbconvert_exporter": "python",
   "pygments_lexer": "ipython2",
   "version": "2.7.12"
  }
 },
 "nbformat": 4,
 "nbformat_minor": 1
}
