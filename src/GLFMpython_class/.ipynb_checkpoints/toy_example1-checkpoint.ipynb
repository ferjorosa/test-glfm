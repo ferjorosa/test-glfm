{
 "cells": [
  {
   "cell_type": "markdown",
   "metadata": {},
   "source": [
    "# How to call GLFM C++ Inference Function from Python"
   ]
  },
  {
   "cell_type": "markdown",
   "metadata": {},
   "source": [
    "We will first import the necessary modules: numpy, sys, and the python wrapper to the GLFM inference function. "
   ]
  },
  {
   "cell_type": "code",
   "execution_count": 1,
   "metadata": {
    "collapsed": false
   },
   "outputs": [],
   "source": [
    "import numpy as np\n",
    "import sys\n",
    "sys.path.append('../Ccode/wrapper_python/')\n",
    "import gsl_run as GLFM"
   ]
  },
  {
   "cell_type": "markdown",
   "metadata": {},
   "source": [
    "Let us now generate a dummy toy example to see how to call the function from python."
   ]
  },
  {
   "cell_type": "code",
   "execution_count": 2,
   "metadata": {
    "collapsed": false
   },
   "outputs": [],
   "source": [
    "N = 3 # number of observations\n",
    "D = 4 # number of dimensions\n",
    "Z = np.array([[1.0,0],[1,1],[1,1]]) # latent feature matrix\n",
    "X = np.array([[1.0, 1, -0.3, 1],[6, 2, 3.8, 23],[11, 3, 4.1, 4]]) # observation matrix\n",
    "C = 'PoGN' # type of data for each dimension (p = positive real, o = ordinal, g = real, n = count data)"
   ]
  },
  {
   "cell_type": "markdown",
   "metadata": {},
   "source": [
    "Let us visualize our data structures."
   ]
  },
  {
   "cell_type": "code",
   "execution_count": 3,
   "metadata": {
    "collapsed": false
   },
   "outputs": [
    {
     "name": "stdout",
     "output_type": "stream",
     "text": [
      "Let us visualize our data structures X and Z in Python\n",
      "[[  1.    1.   -0.3   1. ]\n",
      " [  6.    2.    3.8  23. ]\n",
      " [ 11.    3.    4.1   4. ]]\n",
      "[[ 1.  0.]\n",
      " [ 1.  1.]\n",
      " [ 1.  1.]]\n"
     ]
    }
   ],
   "source": [
    "print 'Let us visualize our data structures X and Z in Python'\n",
    "print X\n",
    "print Z"
   ]
  },
  {
   "cell_type": "markdown",
   "metadata": {},
   "source": [
    "We will now transpose our data structures to be consistent with the API. The observation matrix should be [D x N] and the latent feature matrix should be [K x N]."
   ]
  },
  {
   "cell_type": "code",
   "execution_count": 4,
   "metadata": {
    "collapsed": true
   },
   "outputs": [],
   "source": [
    "X2 = np.ascontiguousarray(X.transpose())\n",
    "Z2 = np.ascontiguousarray(Z.transpose())"
   ]
  },
  {
   "cell_type": "markdown",
   "metadata": {},
   "source": [
    "Finally, let us call the C++ inference function for the GLFM model"
   ]
  },
  {
   "cell_type": "code",
   "execution_count": 9,
   "metadata": {
    "collapsed": false
   },
   "outputs": [
    {
     "name": "stdout",
     "output_type": "stream",
     "text": [
      "N=3, D=4, K=2\n",
      "\n",
      "[[  1.    6.   11. ]\n",
      " [  1.    2.    3. ]\n",
      " [ -0.3   3.8   4.1]\n",
      " [  1.   23.    4. ]]\n",
      "[[ 1.  1.  1.]\n",
      " [ 0.  1.  1.]]\n",
      "Setting R[d]=3.000000\n",
      "Entering C function\n",
      "Back to Python\n",
      "Kest=1, N=3\n",
      "Z_out loaded\n",
      "B_out[D,Kest,maxR] where D=4, Kest=1, maxR=3\n",
      "B_out loaded\n",
      "Theta_out loaded\n"
     ]
    }
   ],
   "source": [
    "(Z_out,B_out,Theta_out) = GLFM.wrapper_IBPsampler(X2,C,Z2)"
   ]
  },
  {
   "cell_type": "markdown",
   "metadata": {},
   "source": [
    "Finally, let us visualize the output data structures"
   ]
  },
  {
   "cell_type": "code",
   "execution_count": 11,
   "metadata": {
    "collapsed": false
   },
   "outputs": [
    {
     "name": "stdout",
     "output_type": "stream",
     "text": [
      "[[ 1.  1.  1.]]\n",
      "[[[-0.42626762  0.          0.        ]]\n",
      "\n",
      " [[ 0.40427467  0.          0.        ]]\n",
      "\n",
      " [[ 2.42528395  0.          0.        ]]\n",
      "\n",
      " [[-0.67132044  0.          0.        ]]]\n",
      "[[ 0.          0.          0.        ]\n",
      " [-0.04100529  0.30088982  0.        ]\n",
      " [ 0.          0.          0.        ]\n",
      " [ 0.          0.          0.        ]]\n",
      "End of Notebook\n"
     ]
    }
   ],
   "source": [
    "print Z_out\n",
    "print B_out\n",
    "print Theta_out\n",
    "print 'End of Notebook'"
   ]
  }
 ],
 "metadata": {
  "anaconda-cloud": {},
  "kernelspec": {
   "display_name": "Python [default]",
   "language": "python",
   "name": "python2"
  },
  "language_info": {
   "codemirror_mode": {
    "name": "ipython",
    "version": 2
   },
   "file_extension": ".py",
   "mimetype": "text/x-python",
   "name": "python",
   "nbconvert_exporter": "python",
   "pygments_lexer": "ipython2",
   "version": "2.7.12"
  }
 },
 "nbformat": 4,
 "nbformat_minor": 0
}
